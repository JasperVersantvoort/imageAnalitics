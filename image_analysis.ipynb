{
  "nbformat": 4,
  "nbformat_minor": 0,
  "metadata": {
    "colab": {
      "name": "image analysis.ipynb",
      "provenance": [],
      "collapsed_sections": [],
      "include_colab_link": true
    },
    "kernelspec": {
      "name": "python3",
      "display_name": "Python 3"
    },
    "language_info": {
      "name": "python"
    }
  },
  "cells": [
    {
      "cell_type": "markdown",
      "metadata": {
        "id": "view-in-github",
        "colab_type": "text"
      },
      "source": [
        "<a href=\"https://colab.research.google.com/github/JasperVersantvoort/imageAnalitics/blob/main/image_analysis.ipynb\" target=\"_parent\"><img src=\"https://colab.research.google.com/assets/colab-badge.svg\" alt=\"Open In Colab\"/></a>"
      ]
    },
    {
      "cell_type": "markdown",
      "source": [
        "hoi\n"
      ],
      "metadata": {
        "id": "gvkXlAHUBbvd"
      }
    },
    {
      "cell_type": "markdown",
      "source": [
        "Imports:"
      ],
      "metadata": {
        "id": "V3y1Hf513hK1"
      }
    },
    {
      "cell_type": "code",
      "source": [
        "import numpy as np # linear algebra\n",
        "import pandas as pd # data processing, CSV file I/O (e.g. pd.read_csv)\n",
        "\n",
        "\n",
        "import os\n",
        "for dirname, _, filenames in os.walk('/content/sample_data/Vogels/KIWI'):\n",
        "    for filename in filenames:\n",
        "        print(os.path.join(dirname, filename))"
      ],
      "metadata": {
        "id": "m5fIXtd_3shV",
        "colab": {
          "base_uri": "https://localhost:8080/"
        },
        "outputId": "43c175aa-55a3-497a-bac9-1316d7977208"
      },
      "execution_count": null,
      "outputs": [
        {
          "output_type": "stream",
          "name": "stdout",
          "text": [
            "/content/sample_data/Vogels/KIWI/010.jpg\n",
            "/content/sample_data/Vogels/KIWI/127.jpg\n",
            "/content/sample_data/Vogels/KIWI/136.jpg\n",
            "/content/sample_data/Vogels/KIWI/135.jpg\n",
            "/content/sample_data/Vogels/KIWI/047.jpg\n",
            "/content/sample_data/Vogels/KIWI/129.jpg\n",
            "/content/sample_data/Vogels/KIWI/046.jpg\n",
            "/content/sample_data/Vogels/KIWI/045.jpg\n",
            "/content/sample_data/Vogels/KIWI/124.jpg\n",
            "/content/sample_data/Vogels/KIWI/030.jpg\n",
            "/content/sample_data/Vogels/KIWI/126.jpg\n",
            "/content/sample_data/Vogels/KIWI/036.jpg\n",
            "/content/sample_data/Vogels/KIWI/002.jpg\n",
            "/content/sample_data/Vogels/KIWI/123.jpg\n",
            "/content/sample_data/Vogels/KIWI/089.jpg\n",
            "/content/sample_data/Vogels/KIWI/009.jpg\n",
            "/content/sample_data/Vogels/KIWI/069.jpg\n",
            "/content/sample_data/Vogels/KIWI/080.jpg\n",
            "/content/sample_data/Vogels/KIWI/056.jpg\n",
            "/content/sample_data/Vogels/KIWI/092.jpg\n",
            "/content/sample_data/Vogels/KIWI/015.jpg\n",
            "/content/sample_data/Vogels/KIWI/054.jpg\n",
            "/content/sample_data/Vogels/KIWI/120.jpg\n",
            "/content/sample_data/Vogels/KIWI/039.jpg\n",
            "/content/sample_data/Vogels/KIWI/008.jpg\n",
            "/content/sample_data/Vogels/KIWI/086.jpg\n",
            "/content/sample_data/Vogels/KIWI/044.jpg\n",
            "/content/sample_data/Vogels/KIWI/107.jpg\n",
            "/content/sample_data/Vogels/KIWI/059.jpg\n",
            "/content/sample_data/Vogels/KIWI/021.jpg\n",
            "/content/sample_data/Vogels/KIWI/133.jpg\n",
            "/content/sample_data/Vogels/KIWI/075.jpg\n",
            "/content/sample_data/Vogels/KIWI/113.jpg\n",
            "/content/sample_data/Vogels/KIWI/118.jpg\n",
            "/content/sample_data/Vogels/KIWI/106.jpg\n",
            "/content/sample_data/Vogels/KIWI/116.jpg\n",
            "/content/sample_data/Vogels/KIWI/064.jpg\n",
            "/content/sample_data/Vogels/KIWI/081.jpg\n",
            "/content/sample_data/Vogels/KIWI/112.jpg\n",
            "/content/sample_data/Vogels/KIWI/071.jpg\n",
            "/content/sample_data/Vogels/KIWI/033.jpg\n",
            "/content/sample_data/Vogels/KIWI/101.jpg\n",
            "/content/sample_data/Vogels/KIWI/079.jpg\n",
            "/content/sample_data/Vogels/KIWI/115.jpg\n",
            "/content/sample_data/Vogels/KIWI/109.jpg\n",
            "/content/sample_data/Vogels/KIWI/052.jpg\n",
            "/content/sample_data/Vogels/KIWI/134.jpg\n",
            "/content/sample_data/Vogels/KIWI/077.jpg\n",
            "/content/sample_data/Vogels/KIWI/017.jpg\n",
            "/content/sample_data/Vogels/KIWI/099.jpg\n",
            "/content/sample_data/Vogels/KIWI/035.jpg\n",
            "/content/sample_data/Vogels/KIWI/034.jpg\n",
            "/content/sample_data/Vogels/KIWI/076.jpg\n",
            "/content/sample_data/Vogels/KIWI/005.jpg\n",
            "/content/sample_data/Vogels/KIWI/108.jpg\n",
            "/content/sample_data/Vogels/KIWI/073.jpg\n",
            "/content/sample_data/Vogels/KIWI/082.jpg\n",
            "/content/sample_data/Vogels/KIWI/067.jpg\n",
            "/content/sample_data/Vogels/KIWI/121.jpg\n",
            "/content/sample_data/Vogels/KIWI/137.jpg\n",
            "/content/sample_data/Vogels/KIWI/097.jpg\n",
            "/content/sample_data/Vogels/KIWI/091.jpg\n",
            "/content/sample_data/Vogels/KIWI/074.jpg\n",
            "/content/sample_data/Vogels/KIWI/068.jpg\n",
            "/content/sample_data/Vogels/KIWI/024.jpg\n",
            "/content/sample_data/Vogels/KIWI/026.jpg\n",
            "/content/sample_data/Vogels/KIWI/051.jpg\n",
            "/content/sample_data/Vogels/KIWI/004.jpg\n",
            "/content/sample_data/Vogels/KIWI/060.jpg\n",
            "/content/sample_data/Vogels/KIWI/062.jpg\n",
            "/content/sample_data/Vogels/KIWI/131.jpg\n",
            "/content/sample_data/Vogels/KIWI/023.jpg\n",
            "/content/sample_data/Vogels/KIWI/072.jpg\n",
            "/content/sample_data/Vogels/KIWI/013.jpg\n",
            "/content/sample_data/Vogels/KIWI/022.jpg\n",
            "/content/sample_data/Vogels/KIWI/084.jpg\n",
            "/content/sample_data/Vogels/KIWI/058.jpg\n",
            "/content/sample_data/Vogels/KIWI/040.jpg\n",
            "/content/sample_data/Vogels/KIWI/043.jpg\n",
            "/content/sample_data/Vogels/KIWI/016.jpg\n",
            "/content/sample_data/Vogels/KIWI/087.jpg\n",
            "/content/sample_data/Vogels/KIWI/114.jpg\n",
            "/content/sample_data/Vogels/KIWI/078.jpg\n",
            "/content/sample_data/Vogels/KIWI/003.jpg\n",
            "/content/sample_data/Vogels/KIWI/012.jpg\n",
            "/content/sample_data/Vogels/KIWI/098.jpg\n",
            "/content/sample_data/Vogels/KIWI/025.jpg\n",
            "/content/sample_data/Vogels/KIWI/050.jpg\n",
            "/content/sample_data/Vogels/KIWI/096.jpg\n",
            "/content/sample_data/Vogels/KIWI/057.jpg\n",
            "/content/sample_data/Vogels/KIWI/083.jpg\n",
            "/content/sample_data/Vogels/KIWI/138.jpg\n",
            "/content/sample_data/Vogels/KIWI/048.jpg\n",
            "/content/sample_data/Vogels/KIWI/088.jpg\n",
            "/content/sample_data/Vogels/KIWI/042.jpg\n",
            "/content/sample_data/Vogels/KIWI/019.jpg\n",
            "/content/sample_data/Vogels/KIWI/011.jpg\n",
            "/content/sample_data/Vogels/KIWI/125.jpg\n",
            "/content/sample_data/Vogels/KIWI/063.jpg\n",
            "/content/sample_data/Vogels/KIWI/085.jpg\n",
            "/content/sample_data/Vogels/KIWI/119.jpg\n",
            "/content/sample_data/Vogels/KIWI/110.jpg\n",
            "/content/sample_data/Vogels/KIWI/055.jpg\n",
            "/content/sample_data/Vogels/KIWI/103.jpg\n",
            "/content/sample_data/Vogels/KIWI/090.jpg\n",
            "/content/sample_data/Vogels/KIWI/006.jpg\n",
            "/content/sample_data/Vogels/KIWI/061.jpg\n",
            "/content/sample_data/Vogels/KIWI/111.jpg\n",
            "/content/sample_data/Vogels/KIWI/093.jpg\n",
            "/content/sample_data/Vogels/KIWI/041.jpg\n",
            "/content/sample_data/Vogels/KIWI/007.jpg\n",
            "/content/sample_data/Vogels/KIWI/132.jpg\n",
            "/content/sample_data/Vogels/KIWI/027.jpg\n",
            "/content/sample_data/Vogels/KIWI/095.jpg\n",
            "/content/sample_data/Vogels/KIWI/128.jpg\n",
            "/content/sample_data/Vogels/KIWI/070.jpg\n",
            "/content/sample_data/Vogels/KIWI/094.jpg\n",
            "/content/sample_data/Vogels/KIWI/105.jpg\n",
            "/content/sample_data/Vogels/KIWI/014.jpg\n",
            "/content/sample_data/Vogels/KIWI/031.jpg\n",
            "/content/sample_data/Vogels/KIWI/018.jpg\n",
            "/content/sample_data/Vogels/KIWI/029.jpg\n",
            "/content/sample_data/Vogels/KIWI/100.jpg\n",
            "/content/sample_data/Vogels/KIWI/049.jpg\n",
            "/content/sample_data/Vogels/KIWI/102.jpg\n",
            "/content/sample_data/Vogels/KIWI/066.jpg\n",
            "/content/sample_data/Vogels/KIWI/028.jpg\n",
            "/content/sample_data/Vogels/KIWI/037.jpg\n",
            "/content/sample_data/Vogels/KIWI/122.jpg\n",
            "/content/sample_data/Vogels/KIWI/104.jpg\n",
            "/content/sample_data/Vogels/KIWI/001.jpg\n",
            "/content/sample_data/Vogels/KIWI/053.jpg\n",
            "/content/sample_data/Vogels/KIWI/130.jpg\n",
            "/content/sample_data/Vogels/KIWI/065.jpg\n",
            "/content/sample_data/Vogels/KIWI/117.jpg\n",
            "/content/sample_data/Vogels/KIWI/020.jpg\n",
            "/content/sample_data/Vogels/KIWI/032.jpg\n",
            "/content/sample_data/Vogels/KIWI/038.jpg\n"
          ]
        }
      ]
    },
    {
      "cell_type": "code",
      "source": [
        "import tensorflow as tf\n",
        "import keras as k\n",
        "print(tf.__version__)\n",
        "print(k.__version__)"
      ],
      "metadata": {
        "id": "awapw1Jx2v98",
        "colab": {
          "base_uri": "https://localhost:8080/"
        },
        "outputId": "bdc05924-f4bf-4f22-bc3e-9df16067e64a"
      },
      "execution_count": null,
      "outputs": [
        {
          "output_type": "stream",
          "name": "stdout",
          "text": [
            "2.8.0\n",
            "2.8.0\n"
          ]
        }
      ]
    },
    {
      "cell_type": "code",
      "source": [
        "from keras.layers import Input, Lambda, Dense, Flatten\n",
        "from keras.models import Model\n",
        "from keras.applications.vgg16 import VGG16\n",
        "from keras.preprocessing import image\n",
        "from keras.preprocessing.image import ImageDataGenerator\n",
        "import numpy as np\n",
        "from glob import glob\n",
        "import matplotlib.pyplot as plt"
      ],
      "metadata": {
        "id": "xDunlxkc28KI"
      },
      "execution_count": null,
      "outputs": []
    },
    {
      "cell_type": "markdown",
      "source": [
        "Set image size"
      ],
      "metadata": {
        "id": "uQ__4ukg3lE0"
      }
    },
    {
      "cell_type": "code",
      "source": [
        "IMAGE_SIZE = [224, 224]"
      ],
      "metadata": {
        "id": "zemCnxt23KAg"
      },
      "execution_count": null,
      "outputs": []
    },
    {
      "cell_type": "markdown",
      "source": [
        "Voeg mapjes toe met train, test en validatie fotos, dan kan je het path hieronder zetten"
      ],
      "metadata": {
        "id": "U9ZFIaaZ9pmc"
      }
    },
    {
      "cell_type": "code",
      "source": [
        "train_directory='../input/100-bird-species/train'\n",
        "test_directory='../input/100-bird-species/test'\n",
        "val_directory='../input/100-bird-species/valid'"
      ],
      "metadata": {
        "id": "RYgKVbTb9iqw"
      },
      "execution_count": null,
      "outputs": []
    },
    {
      "cell_type": "code",
      "source": [
        "vgg = VGG16(input_shape=IMAGE_SIZE + [3], weights='imagenet', include_top=False)\n",
        "\n",
        "\n",
        "for layer in vgg.layers:\n",
        "  layer.trainable = False"
      ],
      "metadata": {
        "id": "ycTjNktc91Vd"
      },
      "execution_count": null,
      "outputs": []
    },
    {
      "cell_type": "code",
      "source": [
        "folders = glob('../input/100-bird-species/train/*')\n",
        "len(folders)"
      ],
      "metadata": {
        "id": "B32t2Gbf-JKt",
        "outputId": "19388de0-c3e0-47d9-ac85-464603f5fc7d",
        "colab": {
          "base_uri": "https://localhost:8080/"
        }
      },
      "execution_count": null,
      "outputs": [
        {
          "output_type": "execute_result",
          "data": {
            "text/plain": [
              "0"
            ]
          },
          "metadata": {},
          "execution_count": 9
        }
      ]
    }
  ]
}